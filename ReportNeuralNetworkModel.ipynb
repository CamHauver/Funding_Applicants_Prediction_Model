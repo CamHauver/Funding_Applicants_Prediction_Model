{
 "cells": [
  {
   "cell_type": "markdown",
   "metadata": {},
   "source": [
    "# **Report - Neural Network Model**\r\n",
    "\r\n",
    "## Overview:\r\n",
    "\r\n",
    "- The purpose of this analysis is to effectively predict applicant success if funded by Alphabet Soup based on provided historical data from more than 34,000 organizations that were previously funded. Metadata included the following columns:\r\n",
    "    - EIN and NAME: identification\r\n",
    "    - APPLICATION_TYPE: Alphabet Soup application type\r\n",
    "    - AFFILIATION: affiliated industry sector\r\n",
    "    - CLASSIFICATION: government organization classification\r\n",
    "    - USE_CASE: use case for funding\r\n",
    "    - ORGANIZATION: organization type\r\n",
    "    - STATUS: active status\r\n",
    "    - INCOME_AMT: income classification\r\n",
    "    - SPECIAL_CONSIDERATIONS: special considerations for application\r\n",
    "    - ASK_AMT: Funding amount requested\r\n",
    "    - IS_SUCCESSFUL: Was the money used effectively?\r\n",
    "    >\r\n",
    "- This will provide Alphabet Soup with a binary classifier neural network model that can be used to determine if future applicants should receive funding or not, based on how their associated metadata compares to historical data/previous applicant success.\r\n",
    "\r\n",
    "## Results:\r\n",
    "\r\n",
    "### Data Preprocessing:\r\n",
    "* What variable(s) are the target(s) for the model?\r\n",
    "* **Answer:** The target variable for this model is the column, IS_SUCCESSFUL (whether or not the money funded was used effectively)\r\n",
    "* What variable(s) are the features for the model?\r\n",
    "* **Answer:** The model features include all other columns except IS_SUCCESSFUL and EIN:\r\n",
    "    - NAME: initially dropped, but was included as part of optimization\r\n",
    "    - APPLICATION_TYPE\r\n",
    "    - AFFILIATION\r\n",
    "    - CLASSIFICATION\r\n",
    "    - USE_CASE\r\n",
    "    - ORGANIZATION\r\n",
    "    - STATUS\r\n",
    "    - INCOME_AMT\r\n",
    "    - SPECIAL_CONSIDERATIONS\r\n",
    "    - ASK_AMT\r\n",
    "* What variable(s) should be removed from the input data because they are neither targets nor features?\r\n",
    "* **Answer:** EIN should be removed, since it's just an ID number. NAME was initially removed for the first attempt at the model, but it was added back in as a feature as part of optimization.\r\n",
    "\r\n",
    "### Compiling, Training, and Evaluating the Model:\r\n",
    "* How many neurons, layers, and activation functions did you select for your neural network model, and why?\r\n",
    "* **Answer:** This model was built with a deep neural net with three hidden layers: 1st = 100 nodes, 2nd = 30, and 3rd = 10. The first activation function was \"relu\", and \"sigmoid\" was selected for the second and third layers.\r\n",
    "* Were you able to achieve the target model performance?\r\n",
    "* **Answer:** Yes, this model achieved 78.8% accuracy after optimization\r\n",
    "* What steps did you take in your attempts to increase the model performance?\r\n",
    "* **Answer:** First, a third hidden layer was added, and then the number of nodes for each layer was increased as well. After determining the model still fell short of the desired accuracy, NAME was added back as a feature. This greatly increased the model accuracy.\r\n",
    "\r\n",
    "## Summary:\r\n",
    "* Overall results of this deep learning model:\r\n",
    "* **Answer:** This optimized neural network model can predict whether an applicant will be a good candidate for funding with 78.8% accuracy and 45% loss. The decision to fund an applicant can be made with a good level of confidence using this model. The cost of running this model will be high, though, since it utilizes a deep neural network.\r\n",
    "* Recommendation for alternative model to solve classification problem:\r\n",
    "* **Answer:** A random forest classifier model might be a good alternative with lower cost, with an accuracy score of 77.6% Another benefit of using this model would be the ability to determine Feature Importance, to narrow down which features carry the most weight in predicting success."
   ]
  },
  {
   "cell_type": "code",
   "execution_count": null,
   "metadata": {},
   "outputs": [],
   "source": []
  }
 ],
 "metadata": {
  "colab": {
   "provenance": []
  },
  "kernelspec": {
   "display_name": "Python 3 (ipykernel)",
   "language": "python",
   "name": "python3"
  },
  "language_info": {
   "codemirror_mode": {
    "name": "ipython",
    "version": 3
   },
   "file_extension": ".py",
   "mimetype": "text/x-python",
   "name": "python",
   "nbconvert_exporter": "python",
   "pygments_lexer": "ipython3",
   "version": "3.11.9"
  },
  "vscode": {
   "interpreter": {
    "hash": "31f2aee4e71d21fbe5cf8b01ff0e069b9275f58929596ceb00d14d90e3e16cd6"
   }
  }
 },
 "nbformat": 4,
 "nbformat_minor": 4
}
